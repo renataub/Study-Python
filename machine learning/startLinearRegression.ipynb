{
 "cells": [
  {
   "cell_type": "code",
   "execution_count": 1,
   "id": "1d2db548",
   "metadata": {},
   "outputs": [
    {
     "name": "stderr",
     "output_type": "stream",
     "text": [
      "Matplotlib is building the font cache; this may take a moment.\n"
     ]
    }
   ],
   "source": [
    "import matplotlib.pyplot as plt\n",
    "import numpy as np\n",
    "import pandas as pd\n",
    "import seaborn as sns\n",
    "from sklearn import linear_model\n",
    "%matplotlib inline"
   ]
  },
  {
   "cell_type": "markdown",
   "id": "59087fff",
   "metadata": {},
   "source": [
    "# Quiz 1"
   ]
  },
  {
   "cell_type": "code",
   "execution_count": 3,
   "id": "05849697",
   "metadata": {},
   "outputs": [
    {
     "name": "stdout",
     "output_type": "stream",
     "text": [
      "b0=30.087861794245192 b1=-159.4741523408623\n"
     ]
    }
   ],
   "source": [
    "x = [[14.2],[16.4],[11.9],[15.2],[18.5],[22.1],[19.4],[25.1],[23.4],[18.1],[22.6],[17.2]]\n",
    "y = [215,325,185,332,406,522,412,614,544,421,445,408]\n",
    "lin_model = linear_model.LinearRegression()\n",
    "lin_model.fit(x, y)\n",
    "b0 = lin_model.coef_[0];\n",
    "b1 = lin_model.intercept_;\n",
    "print(f'b0={lin_model.coef_[0]}', f'b1={lin_model.intercept_}')"
   ]
  },
  {
   "cell_type": "markdown",
   "id": "03605b2d",
   "metadata": {},
   "source": [
    "# Quiz 2"
   ]
  },
  {
   "cell_type": "code",
   "execution_count": null,
   "id": "ffd5c6be",
   "metadata": {},
   "outputs": [],
   "source": [
    "positive impact"
   ]
  },
  {
   "cell_type": "code",
   "execution_count": 4,
   "id": "6e0b1f7d",
   "metadata": {},
   "outputs": [
    {
     "data": {
      "text/plain": [
       "Text(0.5, 1.0, 'Ice cream sales')"
      ]
     },
     "execution_count": 4,
     "metadata": {},
     "output_type": "execute_result"
    },
    {
     "data": {
      "image/png": "[encoded data removed]",
      "text/plain": [
       "<Figure size 500x500 with 1 Axes>"
      ]
     },
     "metadata": {},
     "output_type": "display_data"
    }
   ],
   "source": [
    "plt.figure(figsize = (5, 5))\n",
    "plt.plot(x, y, '.k')\n",
    "plt.plot(x, lin_model.predict(x))\n",
    "plt.xlabel('Tempeture')\n",
    "plt.ylabel('Sales')\n",
    "plt.title('Ice cream sales')"
   ]
  },
  {
   "cell_type": "markdown",
   "id": "15fd0801",
   "metadata": {},
   "source": [
    "# Quiz 3"
   ]
  },
  {
   "cell_type": "code",
   "execution_count": 10,
   "id": "2fbdae3e",
   "metadata": {},
   "outputs": [
    {
     "name": "stdout",
     "output_type": "stream",
     "text": [
      "sales at x = 13 degrees 231.6680509843252\n"
     ]
    }
   ],
   "source": [
    "def get_prediction(model, x):\n",
    "    return model.coef_[0] * x + model.intercept_\n",
    "print(f'sales at x = 13 degrees {get_prediction(lin_model, 13)}')"
   ]
  },
  {
   "cell_type": "markdown",
   "id": "709dea48",
   "metadata": {},
   "source": [
    "# Quiz 4"
   ]
  },
  {
   "cell_type": "code",
   "execution_count": null,
   "id": "e66a0e4c",
   "metadata": {},
   "outputs": [],
   "source": [
    "false \n",
    "Because there is not enough information about -2 degres"
   ]
  },
  {
   "cell_type": "code",
   "execution_count": 11,
   "id": "fcf27f09",
   "metadata": {},
   "outputs": [
    {
     "name": "stdout",
     "output_type": "stream",
     "text": [
      "sales at x = -2 degrees -219.64987592935267\n"
     ]
    }
   ],
   "source": [
    "print(f'sales at x = -2 degrees {get_prediction(lin_model, -2)}')"
   ]
  },
  {
   "cell_type": "markdown",
   "id": "7f7707cb",
   "metadata": {},
   "source": [
    "# Quiz 5"
   ]
  },
  {
   "cell_type": "code",
   "execution_count": null,
   "id": "3b172b20",
   "metadata": {},
   "outputs": [],
   "source": [
    "true"
   ]
  },
  {
   "cell_type": "code",
   "execution_count": 13,
   "id": "717e92da",
   "metadata": {},
   "outputs": [
    {
     "name": "stdout",
     "output_type": "stream",
     "text": [
      "R^2:  0.9168\n"
     ]
    }
   ],
   "source": [
    "print(\"R^2: {: .4f}\".format(lin_model.score(x, y)))"
   ]
  },
  {
   "cell_type": "markdown",
   "id": "60d5ec7d",
   "metadata": {},
   "source": [
    "# Quiz 6"
   ]
  },
  {
   "cell_type": "code",
   "execution_count": 14,
   "id": "9694c04f",
   "metadata": {},
   "outputs": [
    {
     "data": {
      "text/plain": [
       "1211.3583679805145"
      ]
     },
     "execution_count": 14,
     "metadata": {},
     "output_type": "execute_result"
    }
   ],
   "source": [
    "from sklearn import metrics\n",
    "\n",
    "y_pred = lin_model.predict(x)\n",
    "metrics.mean_squared_error(y, y_pred)"
   ]
  },
  {
   "cell_type": "markdown",
   "id": "5859f511",
   "metadata": {},
   "source": [
    "# Quiz 7"
   ]
  },
  {
   "cell_type": "code",
   "execution_count": null,
   "id": "a26b92b0",
   "metadata": {},
   "outputs": [],
   "source": []
  }
 ],
 "metadata": {
  "kernelspec": {
   "display_name": "Python 3 (ipykernel)",
   "language": "python",
   "name": "python3"
  },
  "language_info": {
   "codemirror_mode": {
    "name": "ipython",
    "version": 3
   },
   "file_extension": ".py",
   "mimetype": "text/x-python",
   "name": "python",
   "nbconvert_exporter": "python",
   "pygments_lexer": "ipython3",
   "version": "3.10.9"
  }
 },
 "nbformat": 4,
 "nbformat_minor": 5
}
