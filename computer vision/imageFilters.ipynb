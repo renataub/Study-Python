{
 "cells": [
  {
   "cell_type": "markdown",
   "id": "5a3d93cf",
   "metadata": {},
   "source": [
    "lesson 2"
   ]
  },
  {
   "cell_type": "code",
   "execution_count": 1,
   "id": "74e902cf",
   "metadata": {},
   "outputs": [
    {
     "name": "stderr",
     "output_type": "stream",
     "text": [
      "Matplotlib is building the font cache; this may take a moment.\n"
     ]
    }
   ],
   "source": [
    "import matplotlib.pyplot as plt\n",
    "import numpy as np\n",
    "import pandas as pd\n",
    "import seaborn as sns\n",
    "from sklearn import linear_model\n",
    "%matplotlib inline"
   ]
  },
  {
   "cell_type": "markdown",
   "id": "84b66bf2",
   "metadata": {},
   "source": [
    "Quiz 1"
   ]
  },
  {
   "cell_type": "code",
   "execution_count": 2,
   "id": "ab310bdd",
   "metadata": {},
   "outputs": [
    {
     "name": "stdout",
     "output_type": "stream",
     "text": [
      "model a:\n",
      "b0=[-5.4622077] b1=[436.43822992]\n",
      "model b:\n",
      "b0=[-20.35027027] b1=[345.37837838]\n",
      "model c:\n",
      "b0=[ -5.43658059 -20.01232067] b1=[562.15100923]\n"
     ]
    }
   ],
   "source": [
    "insulation = np.array([3, 3, 10, 6, 6, 6, 6, 10, 10, 3, 10, 6, 3, 3, 10]).reshape(-1,1)\n",
    "temp = np.array([40, 27, 40, 73, 64, 34, 9, 8, 23, 63, 65, 41, 21, 38, 58]).reshape(-1,1)\n",
    "oil_gal = np.array([275.3, 363.8, 164.3, 40.80, 94.3, 230.9, 366.7, 300.6, 237.8, 121.4, 31.4, 203.5, 441.1, 323.0, 52.5]).reshape(-1,1)\n",
    "insulation_and_temp=np.array([[40,3],[27,3], [40,10],[ 73,6],[ 64,6],[ 34,6],[ 9,6],[ 8,10],[ 23,10], [63,3],[ 65,10],[ 41,6],[ 21,3],[ 38,3],[ 58,10]]).reshape(-1,2)\n",
    "\n",
    "model_a = linear_model.LinearRegression().fit(temp, oil_gal)\n",
    "print(\"model a:\")\n",
    "print(f'b0={model_a.coef_[0]}', f'b1={model_a.intercept_}')\n",
    "\n",
    "model_b = linear_model.LinearRegression().fit(insulation, oil_gal)\n",
    "print(\"model b:\")\n",
    "print(f'b0={model_b.coef_[0]}', f'b1={model_b.intercept_}')\n",
    "\n",
    "\n",
    "model_c = linear_model.LinearRegression().fit(insulation_and_temp, oil_gal)\n",
    "print(\"model c:\")\n",
    "print(f'b0={model_c.coef_[0]}', f'b1={model_c.intercept_}')"
   ]
  },
  {
   "cell_type": "markdown",
   "id": "0f33f7e6",
   "metadata": {},
   "source": [
    "Quiz 2"
   ]
  },
  {
   "cell_type": "code",
   "execution_count": 3,
   "id": "6c25aa3c",
   "metadata": {},
   "outputs": [
    {
     "name": "stdout",
     "output_type": "stream",
     "text": [
      "predict a = [[272.57199902]]\n",
      "predict b = [[223.27675676]]\n",
      "predict c = [[278.97966759]]\n"
     ]
    }
   ],
   "source": [
    "y_pred_a = model_a.predict([[30]])\n",
    "print(f\"predict a = {y_pred_a}\")\n",
    "y_pred_b = model_b.predict([[6]])\n",
    "print(f\"predict b = {y_pred_b}\")\n",
    "y_pred_c = model_c.predict([[30, 6]])\n",
    "print(f\"predict c = {y_pred_c}\")"
   ]
  },
  {
   "cell_type": "markdown",
   "id": "b373f386",
   "metadata": {},
   "source": [
    "Quiz 3"
   ]
  },
  {
   "cell_type": "code",
   "execution_count": 4,
   "id": "5b8feff7",
   "metadata": {},
   "outputs": [
    {
     "name": "stdout",
     "output_type": "stream",
     "text": [
      "R^2: 0.7564\n",
      "R^2: 0.2163\n",
      "R^2: 0.9656\n"
     ]
    }
   ],
   "source": [
    "r_a = model_a.score(temp, oil_gal)\n",
    "r_b = model_b.score(insulation, oil_gal)\n",
    "r_c = model_c.score(insulation_and_temp, oil_gal)\n",
    "print(\"R^2: {:.4f}\".format(r_a))\n",
    "print(\"R^2: {:.4f}\".format(r_b))\n",
    "print(\"R^2: {:.4f}\".format(r_c))"
   ]
  },
  {
   "cell_type": "code",
   "execution_count": 5,
   "id": "9ec15724",
   "metadata": {},
   "outputs": [
    {
     "name": "stdout",
     "output_type": "stream",
     "text": [
      "adjusted_r_squared for model_a: 0.7377150653293986\n",
      "adjusted_r_squared for model_b: 0.15601727683586653\n",
      "adjusted_r_squared for model_c: 0.9598787657448806\n"
     ]
    }
   ],
   "source": [
    "def adj_r(x, y, r):\n",
    "    return 1 - ((1 - r) * (len(y) - 1) / (len(y) - x.shape[1] - 1))\n",
    "print(f\"adjusted_r_squared for model_a: {adj_r(temp, oil_gal, r_a)}\")\n",
    "print(f\"adjusted_r_squared for model_b: {adj_r(insulation, oil_gal, r_b)}\" )\n",
    "print(f\"adjusted_r_squared for model_c: {adj_r(insulation_and_temp, oil_gal, r_c)}\" )"
   ]
  },
  {
   "cell_type": "markdown",
   "id": "29b03b4d",
   "metadata": {},
   "source": [
    "Quiz 4"
   ]
  },
  {
   "cell_type": "code",
   "execution_count": 19,
   "id": "4f97509d",
   "metadata": {},
   "outputs": [
    {
     "name": "stdout",
     "output_type": "stream",
     "text": [
      "adjusted_r_squared for model_b: 0.15601727683586653\n",
      "new adjusted_r_squared for oil_model_b: 0.08568538323885544\n"
     ]
    }
   ],
   "source": [
    "oil_1 = np.array([[3, 9], [3, 9], [10, 100], [6, 36], [6, 36], [6, 36], [6, 36], [10, 100], [10, 100], [3, 9], [10, 100], [6, 36], [3, 9], [3, 9], [10, 100]]).reshape(-1, 2)\n",
    "oil_model_b = linear_model.LinearRegression().fit(oil_1, oil_gal)\n",
    "print(f\"adjusted_r_squared for model_b: {adj_r(insulation, oil_gal, r_b)}\" )\n",
    "print(f\"new adjusted_r_squared for oil_model_b: {adj_r(oil_1, oil_gal, r_b)}\" )"
   ]
  },
  {
   "cell_type": "code",
   "execution_count": 20,
   "id": "506c73de",
   "metadata": {},
   "outputs": [
    {
     "name": "stdout",
     "output_type": "stream",
     "text": [
      "adjusted_r_squared for model_c: 0.9598787657448806\n",
      "new adjusted_r_squared for oil_model_c: 0.9562313808125971\n"
     ]
    }
   ],
   "source": [
    "oil_2 = np.array([[40, 3, 9], [27, 3, 9], [40, 10, 100], [73, 6, 36], [64, 6, 36], [34, 6, 36], [9, 6, 36], [8, 10, 100], [23, 10, 100], [63, 3, 9], [65, 10, 100], [41, 6, 36], [21, 3, 9], [38, 3, 9], [58, 10, 100]]).reshape(-1, 3)\n",
    "oil_model_c = linear_model.LinearRegression().fit(oil_2, oil_gal)\n",
    "print(f\"adjusted_r_squared for model_c: {adj_r(insulation_and_temp, oil_gal, r_c)}\" )\n",
    "print(f\"new adjusted_r_squared for oil_model_c: {adj_r(oil_2, oil_gal, r_c)}\" )"
   ]
  }
 ],
 "metadata": {
  "kernelspec": {
   "display_name": "Python 3 (ipykernel)",
   "language": "python",
   "name": "python3"
  },
  "language_info": {
   "codemirror_mode": {
    "name": "ipython",
    "version": 3
   },
   "file_extension": ".py",
   "mimetype": "text/x-python",
   "name": "python",
   "nbconvert_exporter": "python",
   "pygments_lexer": "ipython3",
   "version": "3.10.9"
  }
 },
 "nbformat": 4,
 "nbformat_minor": 5
}
